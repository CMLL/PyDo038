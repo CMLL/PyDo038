{
 "metadata": {
  "name": ""
 },
 "nbformat": 3,
 "nbformat_minor": 0,
 "worksheets": [
  {
   "cells": [
    {
     "cell_type": "markdown",
     "metadata": {},
     "source": [
      "<h1>Como vimos, nuestro primer paso es siempre escribir una prueba...</h2>"
     ]
    },
    {
     "cell_type": "code",
     "collapsed": false,
     "input": [
      "#Importamos el framework de pruebas de OpenERP y heredamos nuestra clase\n",
      "from openerp.tests import common\n",
      "\n",
      "class TestSuite(common.TransactionCase):\n",
      "    \n",
      "    def setUp(self):\n",
      "        \n",
      "        #Llamamos al metodo setup de nuestra clase padre\n",
      "        super(TestSuite, self).setUp()\n",
      "        \n",
      "        #Voy a inicializar mi cursor y mi usuario de Openerp.\n",
      "        #Esto es muy importante pues toda la API del ORM depende de ellos.\n",
      "        cr, uid = self.cr, self.uid\n",
      "\n",
      "        #Voy a llamar los modelos que quiero probar.\n",
      "        self.course_obj = self.registry('course.course')\n",
      "        self.student_obj = self.registry('course.student')\n",
      "        "
     ],
     "language": "python",
     "metadata": {},
     "outputs": [],
     "prompt_number": 2
    },
    {
     "cell_type": "markdown",
     "metadata": {},
     "source": [
      "<h2>Ahora creamos nuestra data para probar que nuestro modelo podra almacenarla.</h2>\n",
      "\n",
      "<h3>2 cosas:</h3>\n",
      "<ul>\n",
      "<li>Podemos usar cualquier metodo para generar nuestra data. XML u ORM.</li>\n",
      "<li>El generar esta data nos permitira tener un vision m\u00e1s clara de nuestro esquema de Postgres</li>\n",
      "</ul>"
     ]
    },
    {
     "cell_type": "code",
     "collapsed": false,
     "input": [
      "#Importamos el framework de pruebas de OpenERP y heredamos nuestra clase\n",
      "from openerp.tests import common\n",
      "\n",
      "class TestSuite(common.TransactionCase):\n",
      "    \n",
      "    def setUp(self):\n",
      "        \n",
      "        #Llamamos al metodo setup de nuestra clase padre\n",
      "        super(TestSuite, self).setUp()\n",
      "        \n",
      "        #Voy a inicializar mi cursor y mi usuario de Openerp.\n",
      "        #Esto es muy importante pues toda la API del ORM depende de ellos.\n",
      "        cr, uid = self.cr, self.uid\n",
      "\n",
      "        #Voy a llamar los modelos que quiero probar.\n",
      "        self.course_obj = self.registry('course.course')\n",
      "        self.student_obj = self.registry('course.student')   \n",
      "    \n",
      "        #Crear la data de prueba, SI quiero usar ORM para esto.\n",
      "        self.course_id = self.create_course(cr, uid, self.course_obj)\n",
      "        self.student_ids = self.create_students(cr, uid, self.student_obj, 3,\n",
      "                                                self.course_id)\n",
      "        \n",
      "#Metodos ayudantes        \n",
      "\n",
      "    def create_course(self, cr, uid, model_obj):\n",
      "        \"\"\"Metodo ayudante para crear cursos.\"\"\"\n",
      "        values = {'name': \"Test Course\", 'subject': 'Python'}\n",
      "        return model_obj.create(cr, uid, values)\n",
      "\n",
      "    def create_students(self, cr, uid, model_obj, amount, course_id):\n",
      "        \"\"\"Metodo ayudante para crear estudiantes.\"\"\"\n",
      "        data_generator = Faker()\n",
      "        res = []\n",
      "        for student in range(amount):\n",
      "            values = {'name': data_generator.first_name(), 'course_id': course_id}\n",
      "            res.append(model_obj.create(cr, uid, values)) #Vamos a devolver una lista de ids.\n",
      "        return res"
     ],
     "language": "python",
     "metadata": {},
     "outputs": [],
     "prompt_number": 5
    },
    {
     "cell_type": "markdown",
     "metadata": {},
     "source": [
      "<h1> Ahora si, estamos listos para escribir nuestra primera prueba... sencilla y obviamente, fallida, pero es lo que querremos.</h1>"
     ]
    },
    {
     "cell_type": "code",
     "collapsed": false,
     "input": [
      "def testModeloCreado(self):\n",
      "        \"\"\"Chequeamos que nuestro modelo existe de verdad y tiene datos.\"\"\"\n",
      "        cr, uid = self.cr, self.uid\n",
      "        results = self.course_obj.search(cr, uid, [])\n",
      "        self.assertTrue(results)"
     ],
     "language": "python",
     "metadata": {},
     "outputs": []
    }
   ],
   "metadata": {}
  }
 ]
}