{
 "metadata": {
  "name": ""
 },
 "nbformat": 3,
 "nbformat_minor": 0,
 "worksheets": [
  {
   "cells": [
    {
     "cell_type": "markdown",
     "metadata": {},
     "source": [
      "<h1>\n",
      "Tenemos una aplicacion que hasta ahora hace exactamente lo que queremos, ahora vamos ir agregandoles funciones,\n",
      "de prueba en prueba. El cielo es el limite.\n",
      "</h1>"
     ]
    },
    {
     "cell_type": "markdown",
     "metadata": {},
     "source": [
      "<h3>\n",
      "Lo primero es que vamos a poner es un campo maximo de estudiantes por curso.\n",
      "</h3>"
     ]
    },
    {
     "cell_type": "code",
     "collapsed": false,
     "input": [
      "#Probamos por un nuevo campo que indique el numero maximo de estudiantes\n",
      "def testCourseMaxStudents(self):\n",
      "        \"\"\"Chequeamos que nuestro curso tenga un numero maximo de estudaintes.\"\"\"\n",
      "        cr, uid = self.cr, self.uid\n",
      "        curso = self.course_obj.browse(cr, uid, self.course_id)\n",
      "        self.assertTrue(curso.max_students)"
     ],
     "language": "python",
     "metadata": {},
     "outputs": [],
     "prompt_number": 1
    },
    {
     "cell_type": "markdown",
     "metadata": {},
     "source": [
      "<h3>No siempre tenemos que a\u00f1adir nuestras pruebas una a una. Vamos a a\u00f1adir otra prueba para verificar que si el numero de estudiantes registrados es mayor que el permitido una excepci\u00f3n se levante.</h3>"
     ]
    },
    {
     "cell_type": "code",
     "collapsed": false,
     "input": [
      "def testRaiseExceptionAtNumberExceed(self):\n",
      "        \"\"\"Chequamos que levante una excepcion al infringir numero maximo.\"\"\"\n",
      "        cr, uid = self.cr, self.uid\n",
      "        #Aqui no quiero usar mi data de curso valido, pues tendria que cambiarla\n",
      "        #para solamente esta prueba. Es posible, pero es mejor crear otro curso\n",
      "        #para que falle.\n",
      "        self.assertRaises(orm.except_orm, self.course_obj.validate, cr, uid, self.bad_course_id)"
     ],
     "language": "python",
     "metadata": {},
     "outputs": [],
     "prompt_number": 2
    },
    {
     "cell_type": "markdown",
     "metadata": {},
     "source": [
      "<h3>Ahora ambas pruebas van a fallar, porque no tenemos creados ni el campo max_students ni el metodo validate de nuestra clase course.course</h3>"
     ]
    },
    {
     "cell_type": "markdown",
     "metadata": {},
     "source": [
      "<h4>Hay que tomar en cuenta que estamos introduciendo cambios en nuestro modelo, nuestros datos de prueba deben reflejar estos cambios.</h4>"
     ]
    },
    {
     "cell_type": "markdown",
     "metadata": {},
     "source": [
      "<h4>Hacemos pasar nuestra primera prueba."
     ]
    },
    {
     "cell_type": "code",
     "collapsed": false,
     "input": [
      "def create_course(self, cr, uid, model_obj, max_number):\n",
      "        \"\"\"Metodo ayudante para crear cursos.\"\"\"\n",
      "        values = {'name': \"Test Course\", 'subject': 'Python', 'max_students': max_number}\n",
      "        return model_obj.create(cr, uid, values)"
     ],
     "language": "python",
     "metadata": {},
     "outputs": [],
     "prompt_number": 4
    },
    {
     "cell_type": "markdown",
     "metadata": {},
     "source": [
      "<h4>Hacemos pasar nuestra segunda prueba."
     ]
    },
    {
     "cell_type": "code",
     "collapsed": false,
     "input": [
      "def validate(self, cr, uid, ids, context=None):\n",
      "        \"\"\"Asegura que los alumnos registrados no excedan la cantidad maxima\"\"\"\n",
      "        for curso in self.browse(cr, uid, ids, context):\n",
      "            registrados = len(curso.registered_students)\n",
      "            if registrados > curso.max_students:\n",
      "                raise orm.except_orm('ERROR', \"Mas alumnos registrados que lo permitido.\")"
     ],
     "language": "python",
     "metadata": {},
     "outputs": [],
     "prompt_number": 5
    }
   ],
   "metadata": {}
  }
 ]
}