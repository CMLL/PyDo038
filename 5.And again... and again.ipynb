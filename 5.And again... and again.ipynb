{
 "metadata": {
  "name": ""
 },
 "nbformat": 3,
 "nbformat_minor": 0,
 "worksheets": [
  {
   "cells": [
    {
     "cell_type": "markdown",
     "metadata": {},
     "source": [
      "<h1>Tenemos una validaci\u00f3n para casos negativos, pero vamos a probar nuestro metodo para casos positivos."
     ]
    },
    {
     "cell_type": "markdown",
     "metadata": {},
     "source": [
      "<h2>Vamos a probar que si la validaci\u00f3n no levanta ningun error nuestro registro sea modificado y pase a estado validado."
     ]
    },
    {
     "cell_type": "code",
     "collapsed": false,
     "input": [
      "def testValidateChangesStatus(self):\n",
      "        \"\"\"Queremos validar que nuestro metodo de validaci\u00f3n modifique\n",
      "        el registro en casos positivos.\"\"\"\n",
      "        cr, uid = self.cr, self.uid\n",
      "        self.course_obj.validate(cr, uid, self.course_id)\n",
      "        curso = self.course_obj.browse(cr, uid, [self.course_id])\n",
      "        self.assertEqual('validated', curso.state)"
     ],
     "language": "python",
     "metadata": {},
     "outputs": [],
     "prompt_number": 1
    },
    {
     "cell_type": "markdown",
     "metadata": {},
     "source": [
      "<h2>Obviamente nuestra prueba falla porque el objeto estado no tiene un campo state, pero ahi tenemos nuestro siguiente cambio. Vamos hacer un campo llamado state que cuando el objeto sea valido, tenga un valor 'validated'"
     ]
    },
    {
     "cell_type": "code",
     "collapsed": false,
     "input": [
      "from openerp.osv import orm, fields\n",
      "\n",
      "\n",
      "class Course(orm.Model):\n",
      "\n",
      "    _name = 'course.course'\n",
      "    _columns = {\n",
      "        'name': fields.char('Course Name', size=32, required=True),\n",
      "        'subject': fields.char('Course Subject', size=32, required=True),\n",
      "        'registered_students': fields.one2many('student.student', 'course_id',\n",
      "                                               'Estudiantes Registrados'),\n",
      "        'max_students': fields.integer('Cantidad Maxima', size=2, required=True),\n",
      "        'state': fields.selection([('draft','Draft'),('validated','Validated')],\n",
      "                                  'State')\n",
      "    }\n",
      "\n",
      "    _default = {\n",
      "        'state': 'draft'\n",
      "    }\n"
     ],
     "language": "python",
     "metadata": {},
     "outputs": [],
     "prompt_number": 3
    },
    {
     "cell_type": "markdown",
     "metadata": {},
     "source": [
      "<h2>Y modificamos nuestro metod para los casos positivos."
     ]
    },
    {
     "cell_type": "code",
     "collapsed": false,
     "input": [
      "def validate(self, cr, uid, ids, context=None):\n",
      "        \"\"\"Asegura que los alumnos registrados no excedan la cantidad maxima\"\"\"\n",
      "        for curso in self.browse(cr, uid, ids, context):\n",
      "            registrados = len(curso.registered_students)\n",
      "            if registrados > curso.max_students:\n",
      "                raise orm.except_orm('ERROR', \"Mas alumnos registrados que lo permitido.\")\n",
      "            else:\n",
      "                self.write(cr, uid, curso.id, {'state': 'validated'}, context)"
     ],
     "language": "python",
     "metadata": {},
     "outputs": [],
     "prompt_number": 4
    },
    {
     "cell_type": "markdown",
     "metadata": {},
     "source": [
      "<h1>Listo, tenemos un peque\u00f1o modulo de OpenERP desarrollado usando TDD. Muchas gracias!!!</h1>"
     ]
    }
   ],
   "metadata": {}
  }
 ]
}