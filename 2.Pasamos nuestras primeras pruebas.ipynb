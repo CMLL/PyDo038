{
 "metadata": {
  "name": ""
 },
 "nbformat": 3,
 "nbformat_minor": 0,
 "worksheets": [
  {
   "cells": [
    {
     "cell_type": "markdown",
     "metadata": {},
     "source": [
      "<h1>Ahora podemos empezar a escribir el codigo de nuestro modulo.</h1>\n",
      "\n",
      "<h3>El codigo lo unico que debe lograr es hacer pasar la prueba, sencillo y conciso.</h3>"
     ]
    },
    {
     "cell_type": "code",
     "collapsed": false,
     "input": [
      "#Creamos el modelo para nuestro objeto Course\n",
      "\n",
      "from openerp.osv import orm, fields\n",
      "\n",
      "\n",
      "class Course(orm.Model):\n",
      "\n",
      "    _name = 'course.course'\n",
      "    _columns = {\n",
      "        'name': fields.char('Course Name', size=32, required=True),\n",
      "        'subject': fields.char('Course Subject', size=32, required=True)\n",
      "    }"
     ],
     "language": "python",
     "metadata": {},
     "outputs": [],
     "prompt_number": 2
    },
    {
     "cell_type": "code",
     "collapsed": false,
     "input": [
      "#Y creamos nuestro modelo para el objeto Estudiante\n",
      "\n",
      "from openerp.osv import orm, fields\n",
      "\n",
      "\n",
      "class Student(orm.Model):\n",
      "\n",
      "    _name = 'student.student'\n",
      "    _columns = {\n",
      "        'name': fields.char('Nombre Estudiante', required=True, size=32),\n",
      "        'course_id': fields.many2one('course.course', 'Curso')\n",
      "    }"
     ],
     "language": "python",
     "metadata": {},
     "outputs": [],
     "prompt_number": 3
    },
    {
     "cell_type": "markdown",
     "metadata": {},
     "source": [
      "<h1> Tomar en cuenta que estamos usando nuestra importaci\u00f3n de datos para guiarnos en su estructura.</h1>"
     ]
    }
   ],
   "metadata": {}
  }
 ]
}