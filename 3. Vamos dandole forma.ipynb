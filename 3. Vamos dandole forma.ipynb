{
 "metadata": {
  "name": ""
 },
 "nbformat": 3,
 "nbformat_minor": 0,
 "worksheets": [
  {
   "cells": [
    {
     "cell_type": "markdown",
     "metadata": {},
     "source": [
      "<h1> Pasamos nuestra primera iteraci\u00f3n </h1>"
     ]
    },
    {
     "cell_type": "code",
     "collapsed": false,
     "input": [
      "#Ahora queremos que desde nuestro curso podamos llevar un registro de estudiantes registrados.\n",
      "def testRelacionarEstudiantesPorCurso(self):\n",
      "    \"\"\"Checqueamos que desde nuestro curso podemos llevar un control de\n",
      "    estudiantes registrados.\"\"\"\n",
      "    cr, uid = self.cr, self.uid\n",
      "    curso = self.course_obj.browse(cr, uid, self.course_id)\n",
      "    self.assertTrue(curso.registered_student)"
     ],
     "language": "python",
     "metadata": {},
     "outputs": [],
     "prompt_number": 2
    },
    {
     "cell_type": "markdown",
     "metadata": {},
     "source": [
      "<h3>Nuestras pruebas van a fallar, que es justamente lo que queremos</h3>"
     ]
    },
    {
     "cell_type": "code",
     "collapsed": false,
     "input": [
      "#A\u00f1adimos nuestro codigo para hacer pasar a nuestra prueba\n",
      "from openerp.osv import orm, fields\n",
      "\n",
      "class Course(orm.Model):\n",
      "\n",
      "    _name = 'course.course'\n",
      "    _columns = {\n",
      "        'name': fields.char('Course Name', size=32, required=True),\n",
      "        'subject': fields.char('Course Subject', size=32, required=True),\n",
      "        #Lo unico que hicimos fue a\u00f1adir un campo nuevo one2many.\n",
      "        'registered_students': fields.one2many('student.student', 'course_id',\n",
      "                                               'Estudiantes Registrados')\n",
      "    }"
     ],
     "language": "python",
     "metadata": {},
     "outputs": [],
     "prompt_number": 4
    },
    {
     "cell_type": "markdown",
     "metadata": {},
     "source": [
      "<h3>Ahora es un excelente momento para hacer nuestras vistas y acciones para revisar como se vera nuestro progreso</h3>"
     ]
    }
   ],
   "metadata": {}
  }
 ]
}